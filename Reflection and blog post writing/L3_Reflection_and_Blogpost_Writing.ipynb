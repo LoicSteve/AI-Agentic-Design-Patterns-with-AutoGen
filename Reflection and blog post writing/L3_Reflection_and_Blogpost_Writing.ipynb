{
 "cells": [
  {
   "cell_type": "markdown",
   "id": "fc3024e2",
   "metadata": {},
   "source": [
    "# Reflection and Blogpost Writing"
   ]
  },
  {
   "cell_type": "markdown",
   "id": "3b0cc42f",
   "metadata": {},
   "source": [
    "## Setup"
   ]
  },
  {
   "cell_type": "code",
   "execution_count": 1,
   "id": "96d39be0-eaf3-456d-8613-ba21099ed36b",
   "metadata": {
    "height": 30
   },
   "outputs": [],
   "source": [
    "llm_config = {\"model\": \"gpt-3.5-turbo\"}"
   ]
  },
  {
   "cell_type": "markdown",
   "id": "0969e6bb",
   "metadata": {},
   "source": [
    "## The task!"
   ]
  },
  {
   "cell_type": "code",
   "execution_count": 2,
   "id": "e8074032-3690-4de9-ad08-ea8323cb441b",
   "metadata": {
    "height": 115
   },
   "outputs": [],
   "source": [
    "task = '''\n",
    "        Write a concise but engaging blogpost about\n",
    "       DeepLearning.AI. Make sure the blogpost is\n",
    "       within 100 words.\n",
    "       '''\n"
   ]
  },
  {
   "cell_type": "markdown",
   "id": "1987f023",
   "metadata": {},
   "source": [
    "## Create a writer agent"
   ]
  },
  {
   "cell_type": "code",
   "execution_count": 3,
   "id": "fe0f0a47-a9fe-43a0-b7b1-79922e4c4ac8",
   "metadata": {
    "height": 183
   },
   "outputs": [],
   "source": [
    "import autogen\n",
    "\n",
    "writer = autogen.AssistantAgent(\n",
    "    name=\"Writer\",\n",
    "    system_message=\"You are a writer. You write engaging and concise \" \n",
    "        \"blogpost (with title) on given topics. You must polish your \"\n",
    "        \"writing based on the feedback you receive and give a refined \"\n",
    "        \"version. Only return your final work without additional comments.\",\n",
    "    llm_config=llm_config,\n",
    ")"
   ]
  },
  {
   "cell_type": "code",
   "execution_count": 4,
   "id": "7c7b4d8d-40f7-4a05-8958-25d20054de3a",
   "metadata": {
    "height": 30
   },
   "outputs": [],
   "source": [
    "reply = writer.generate_reply(messages=[{\"content\": task, \"role\": \"user\"}])"
   ]
  },
  {
   "cell_type": "code",
   "execution_count": 5,
   "id": "c501c97d-e338-4f36-a384-6ec45983cf77",
   "metadata": {
    "height": 30
   },
   "outputs": [
    {
     "name": "stdout",
     "output_type": "stream",
     "text": [
      "Title: \"Unleashing the Power of Deep Learning with DeepLearning.AI\"\n",
      "\n",
      "Are you ready to dive into the world of deep learning and artificial intelligence? Look no further than DeepLearning.AI. Founded by Andrew Ng, a prominent figure in the AI community, this platform offers top-notch courses to help you master the complexities of deep learning. With a focus on practical applications and hands-on projects, DeepLearning.AI equips you with the skills needed to thrive in this cutting-edge field. Whether you're a beginner or an experienced professional, there's something for everyone. Embark on your deep learning journey today with DeepLearning.AI!\n"
     ]
    }
   ],
   "source": [
    "print(reply)"
   ]
  },
  {
   "cell_type": "markdown",
   "id": "49658114",
   "metadata": {},
   "source": [
    "## Adding reflection \n",
    "\n",
    "Create a critic agent to reflect on the work of the writer agent."
   ]
  },
  {
   "cell_type": "code",
   "execution_count": 6,
   "id": "c7fcd1c7-51ec-4915-8e97-bac03565c4c7",
   "metadata": {
    "height": 149
   },
   "outputs": [],
   "source": [
    "critic = autogen.AssistantAgent(\n",
    "    name=\"Critic\",\n",
    "    is_termination_msg=lambda x: x.get(\"content\", \"\").find(\"TERMINATE\") >= 0,\n",
    "    llm_config=llm_config,\n",
    "    system_message=\"You are a critic. You review the work of \"\n",
    "                \"the writer and provide constructive \"\n",
    "                \"feedback to help improve the quality of the content.\",\n",
    ")"
   ]
  },
  {
   "cell_type": "code",
   "execution_count": 7,
   "id": "899d5fdb-6081-470b-b287-8cf8b8142d0d",
   "metadata": {
    "height": 115
   },
   "outputs": [
    {
     "name": "stdout",
     "output_type": "stream",
     "text": [
      "\u001b[33mCritic\u001b[0m (to Writer):\n",
      "\n",
      "\n",
      "        Write a concise but engaging blogpost about\n",
      "       DeepLearning.AI. Make sure the blogpost is\n",
      "       within 100 words.\n",
      "       \n",
      "\n",
      "--------------------------------------------------------------------------------\n",
      "\u001b[33mWriter\u001b[0m (to Critic):\n",
      "\n",
      "Title: \"Unleashing the Power of Deep Learning with DeepLearning.AI\"\n",
      "\n",
      "Are you ready to dive into the world of deep learning and artificial intelligence? Look no further than DeepLearning.AI. Founded by Andrew Ng, a prominent figure in the AI community, this platform offers top-notch courses to help you master the complexities of deep learning. With a focus on practical applications and hands-on projects, DeepLearning.AI equips you with the skills needed to thrive in this cutting-edge field. Whether you're a beginner or an experienced professional, there's something for everyone. Embark on your deep learning journey today with DeepLearning.AI!\n",
      "\n",
      "--------------------------------------------------------------------------------\n",
      "\u001b[33mCritic\u001b[0m (to Writer):\n",
      "\n",
      "Your blog post about DeepLearning.AI is engaging and informative. You effectively highlight the key features of the platform and emphasize its relevance for both beginners and experienced professionals. To enhance the post, consider including specific examples of the courses offered or success stories from individuals who have benefited from DeepLearning.AI. Additionally, you could mention any unique features or advantages of the platform that set it apart from other similar offerings in the market. These additions would provide readers with a more in-depth understanding of what DeepLearning.AI has to offer and motivate them to explore the platform further.\n",
      "\n",
      "--------------------------------------------------------------------------------\n",
      "\u001b[33mWriter\u001b[0m (to Critic):\n",
      "\n",
      "Title: \"Empowering Minds: Exploring the World of Deep Learning with DeepLearning.AI\"\n",
      "\n",
      "Step into the realm of deep learning and artificial intelligence with DeepLearning.AI, spearheaded by the renowned figure Andrew Ng. Offering a diverse array of courses, this platform equips learners with practical skills and knowledge through hands-on projects. From foundational concepts to advanced applications, DeepLearning.AI caters to individuals at all levels of expertise. Dive into courses like \"Neural Networks and Deep Learning\" or \"Sequence Models\" to uncover the potential of AI. Discover success stories of professionals elevating their careers through these courses. Fuel your curiosity and passion for AI – embrace the possibilities with DeepLearning.AI.\n",
      "\n",
      "--------------------------------------------------------------------------------\n"
     ]
    }
   ],
   "source": [
    "res = critic.initiate_chat(\n",
    "    recipient=writer,\n",
    "    message=task,\n",
    "    max_turns=2,\n",
    "    summary_method=\"last_msg\"\n",
    ")"
   ]
  },
  {
   "cell_type": "markdown",
   "id": "e7b76449",
   "metadata": {},
   "source": [
    "## Nested chat"
   ]
  },
  {
   "cell_type": "code",
   "execution_count": 8,
   "id": "401ecf92-63e9-40ff-aeed-1c404352e4ab",
   "metadata": {
    "height": 200
   },
   "outputs": [],
   "source": [
    "SEO_reviewer = autogen.AssistantAgent(\n",
    "    name=\"SEO Reviewer\",\n",
    "    llm_config=llm_config,\n",
    "    system_message=\"You are an SEO reviewer, known for \"\n",
    "        \"your ability to optimize content for search engines, \"\n",
    "        \"ensuring that it ranks well and attracts organic traffic. \" \n",
    "        \"Make sure your suggestion is concise (within 3 bullet points), \"\n",
    "        \"concrete and to the point. \"\n",
    "        \"Begin the review by stating your role.\",\n",
    ")\n"
   ]
  },
  {
   "cell_type": "code",
   "execution_count": 9,
   "id": "f85acb81-7ab9-4c84-b8bb-6fbae3dce848",
   "metadata": {
    "height": 183
   },
   "outputs": [],
   "source": [
    "legal_reviewer = autogen.AssistantAgent(\n",
    "    name=\"Legal Reviewer\",\n",
    "    llm_config=llm_config,\n",
    "    system_message=\"You are a legal reviewer, known for \"\n",
    "        \"your ability to ensure that content is legally compliant \"\n",
    "        \"and free from any potential legal issues. \"\n",
    "        \"Make sure your suggestion is concise (within 3 bullet points), \"\n",
    "        \"concrete and to the point. \"\n",
    "        \"Begin the review by stating your role.\",\n",
    ")"
   ]
  },
  {
   "cell_type": "code",
   "execution_count": 10,
   "id": "d46a177a-8088-4956-8d2b-3e916b8ca5e9",
   "metadata": {
    "height": 183
   },
   "outputs": [],
   "source": [
    "ethics_reviewer = autogen.AssistantAgent(\n",
    "    name=\"Ethics Reviewer\",\n",
    "    llm_config=llm_config,\n",
    "    system_message=\"You are an ethics reviewer, known for \"\n",
    "        \"your ability to ensure that content is ethically sound \"\n",
    "        \"and free from any potential ethical issues. \" \n",
    "        \"Make sure your suggestion is concise (within 3 bullet points), \"\n",
    "        \"concrete and to the point. \"\n",
    "        \"Begin the review by stating your role. \",\n",
    ")"
   ]
  },
  {
   "cell_type": "code",
   "execution_count": 11,
   "id": "a7b2ad6f-8ba6-436a-9459-14ffbe8a32d3",
   "metadata": {
    "height": 115
   },
   "outputs": [],
   "source": [
    "meta_reviewer = autogen.AssistantAgent(\n",
    "    name=\"Meta Reviewer\",\n",
    "    llm_config=llm_config,\n",
    "    system_message=\"You are a meta reviewer, you aggragate and review \"\n",
    "    \"the work of other reviewers and give a final suggestion on the content.\",\n",
    ")"
   ]
  },
  {
   "cell_type": "markdown",
   "id": "913beca1",
   "metadata": {},
   "source": [
    "## Orchestrate the nested chats to solve the task"
   ]
  },
  {
   "cell_type": "code",
   "execution_count": 12,
   "id": "a11a70c7-19ca-4e5a-ad3d-f2b481fb5915",
   "metadata": {
    "height": 540
   },
   "outputs": [],
   "source": [
    "def reflection_message(recipient, messages, sender, config):\n",
    "    return f'''Review the following content. \n",
    "            \\n\\n {recipient.chat_messages_for_summary(sender)[-1]['content']}'''\n",
    "\n",
    "review_chats = [\n",
    "    {\n",
    "     \"recipient\": SEO_reviewer, \n",
    "     \"message\": reflection_message, \n",
    "     \"summary_method\": \"reflection_with_llm\",\n",
    "     \"summary_args\": {\"summary_prompt\" : \n",
    "        \"Return review into as JSON object only:\"\n",
    "        \"{'Reviewer': '', 'Review': ''}. Here Reviewer should be your role\",},\n",
    "     \"max_turns\": 1},\n",
    "    {\n",
    "    \"recipient\": legal_reviewer, \"message\": reflection_message, \n",
    "     \"summary_method\": \"reflection_with_llm\",\n",
    "     \"summary_args\": {\"summary_prompt\" : \n",
    "        \"Return review into as JSON object only:\"\n",
    "        \"{'Reviewer': '', 'Review': ''}.\",},\n",
    "     \"max_turns\": 1},\n",
    "    {\"recipient\": ethics_reviewer, \"message\": reflection_message, \n",
    "     \"summary_method\": \"reflection_with_llm\",\n",
    "     \"summary_args\": {\"summary_prompt\" : \n",
    "        \"Return review into as JSON object only:\"\n",
    "        \"{'reviewer': '', 'review': ''}\",},\n",
    "     \"max_turns\": 1},\n",
    "     {\"recipient\": meta_reviewer, \n",
    "      \"message\": \"Aggregrate feedback from all reviewers and give final suggestions on the writing.\", \n",
    "     \"max_turns\": 1},\n",
    "]\n"
   ]
  },
  {
   "cell_type": "code",
   "execution_count": 13,
   "id": "b3a40b66-5061-460d-ad9d-c0dbcfbba2e9",
   "metadata": {
    "height": 81
   },
   "outputs": [],
   "source": [
    "critic.register_nested_chats(\n",
    "    review_chats,\n",
    "    trigger=writer,\n",
    ")"
   ]
  },
  {
   "cell_type": "markdown",
   "id": "43b8797d",
   "metadata": {},
   "source": [
    "**Note**: You might get a slightly different response than what's shown in the video. Feel free to try different task."
   ]
  },
  {
   "cell_type": "code",
   "execution_count": 14,
   "id": "3b8dcac3-1e72-43b7-9d5a-1be740f6efd5",
   "metadata": {
    "height": 115
   },
   "outputs": [
    {
     "name": "stdout",
     "output_type": "stream",
     "text": [
      "\u001b[33mCritic\u001b[0m (to Writer):\n",
      "\n",
      "\n",
      "        Write a concise but engaging blogpost about\n",
      "       DeepLearning.AI. Make sure the blogpost is\n",
      "       within 100 words.\n",
      "       \n",
      "\n",
      "--------------------------------------------------------------------------------\n",
      "\u001b[33mWriter\u001b[0m (to Critic):\n",
      "\n",
      "Title: \"Unleashing the Power of Deep Learning with DeepLearning.AI\"\n",
      "\n",
      "Are you ready to dive into the world of deep learning and artificial intelligence? Look no further than DeepLearning.AI. Founded by Andrew Ng, a prominent figure in the AI community, this platform offers top-notch courses to help you master the complexities of deep learning. With a focus on practical applications and hands-on projects, DeepLearning.AI equips you with the skills needed to thrive in this cutting-edge field. Whether you're a beginner or an experienced professional, there's something for everyone. Embark on your deep learning journey today with DeepLearning.AI!\n",
      "\n",
      "--------------------------------------------------------------------------------\n",
      "\u001b[34m\n",
      "********************************************************************************\u001b[0m\n",
      "\u001b[34mStarting a new chat....\u001b[0m\n",
      "\u001b[34m\n",
      "********************************************************************************\u001b[0m\n",
      "\u001b[33mCritic\u001b[0m (to SEO Reviewer):\n",
      "\n",
      "Review the following content. \n",
      "            \n",
      "\n",
      " Title: \"Unleashing the Power of Deep Learning with DeepLearning.AI\"\n",
      "\n",
      "Are you ready to dive into the world of deep learning and artificial intelligence? Look no further than DeepLearning.AI. Founded by Andrew Ng, a prominent figure in the AI community, this platform offers top-notch courses to help you master the complexities of deep learning. With a focus on practical applications and hands-on projects, DeepLearning.AI equips you with the skills needed to thrive in this cutting-edge field. Whether you're a beginner or an experienced professional, there's something for everyone. Embark on your deep learning journey today with DeepLearning.AI!\n",
      "\n",
      "--------------------------------------------------------------------------------\n",
      "\u001b[33mSEO Reviewer\u001b[0m (to Critic):\n",
      "\n",
      "As an SEO reviewer, here's my feedback:\n",
      "\n",
      "1. **Targeted Keywords**: Consider incorporating specific keywords related to deep learning and online courses, such as \"deep learning courses,\" \"Andrew Ng,\" and \"artificial intelligence training,\" to improve search engine visibility.\n",
      "   \n",
      "2. **Meta Description**: Craft a concise and compelling meta description that summarizes the content and includes relevant keywords to increase click-through rates from search engine results pages.\n",
      "\n",
      "3. **Internal Linking**: Include internal links to relevant pages within the content, such as course pages or additional resources on deep learning, to enhance user engagement and improve website structure for SEO.\n",
      "\n",
      "--------------------------------------------------------------------------------\n",
      "\u001b[34m\n",
      "********************************************************************************\u001b[0m\n",
      "\u001b[34mStarting a new chat....\u001b[0m\n",
      "\u001b[34m\n",
      "********************************************************************************\u001b[0m\n",
      "\u001b[33mCritic\u001b[0m (to Legal Reviewer):\n",
      "\n",
      "Review the following content. \n",
      "            \n",
      "\n",
      " Title: \"Unleashing the Power of Deep Learning with DeepLearning.AI\"\n",
      "\n",
      "Are you ready to dive into the world of deep learning and artificial intelligence? Look no further than DeepLearning.AI. Founded by Andrew Ng, a prominent figure in the AI community, this platform offers top-notch courses to help you master the complexities of deep learning. With a focus on practical applications and hands-on projects, DeepLearning.AI equips you with the skills needed to thrive in this cutting-edge field. Whether you're a beginner or an experienced professional, there's something for everyone. Embark on your deep learning journey today with DeepLearning.AI!\n",
      "Context: \n",
      "{'Reviewer': 'SEO Reviewer', 'Review': \"Consider incorporating specific keywords related to deep learning and online courses, such as 'deep learning courses,' 'Andrew Ng,' and 'artificial intelligence training,' to improve search engine visibility. Craft a concise and compelling meta description that summarizes the content and includes relevant keywords to increase click-through rates from search engine results pages. Include internal links to relevant pages within the content, such as course pages or additional resources on deep learning, to enhance user engagement and improve website structure for SEO.\"}\n",
      "\n",
      "--------------------------------------------------------------------------------\n",
      "\u001b[33mLegal Reviewer\u001b[0m (to Critic):\n",
      "\n",
      "As a Legal Reviewer:\n",
      "\n",
      "- Ensure there are no misleading claims about the effectiveness or outcomes of the courses offered by DeepLearning.AI.\n",
      "- Verify that any references to Andrew Ng are accurate and do not imply any endorsement or affiliation without permission.\n",
      "- Check for any potential trademark issues related to the use of terms like \"deep learning\" and \"artificial intelligence\" in the content.\n",
      "\n",
      "--------------------------------------------------------------------------------\n",
      "\u001b[34m\n",
      "********************************************************************************\u001b[0m\n",
      "\u001b[34mStarting a new chat....\u001b[0m\n",
      "\u001b[34m\n",
      "********************************************************************************\u001b[0m\n",
      "\u001b[33mCritic\u001b[0m (to Ethics Reviewer):\n",
      "\n",
      "Review the following content. \n",
      "            \n",
      "\n",
      " Title: \"Unleashing the Power of Deep Learning with DeepLearning.AI\"\n",
      "\n",
      "Are you ready to dive into the world of deep learning and artificial intelligence? Look no further than DeepLearning.AI. Founded by Andrew Ng, a prominent figure in the AI community, this platform offers top-notch courses to help you master the complexities of deep learning. With a focus on practical applications and hands-on projects, DeepLearning.AI equips you with the skills needed to thrive in this cutting-edge field. Whether you're a beginner or an experienced professional, there's something for everyone. Embark on your deep learning journey today with DeepLearning.AI!\n",
      "Context: \n",
      "{'Reviewer': 'SEO Reviewer', 'Review': \"Consider incorporating specific keywords related to deep learning and online courses, such as 'deep learning courses,' 'Andrew Ng,' and 'artificial intelligence training,' to improve search engine visibility. Craft a concise and compelling meta description that summarizes the content and includes relevant keywords to increase click-through rates from search engine results pages. Include internal links to relevant pages within the content, such as course pages or additional resources on deep learning, to enhance user engagement and improve website structure for SEO.\"}\n",
      "{'Reviewer': 'Legal Reviewer', 'Review': 'Verify that any references to Andrew Ng are accurate and do not imply any endorsement or affiliation without permission. Check for any potential trademark issues related to the use of terms like \"deep learning\" and \"artificial intelligence\" in the content.'}\n",
      "\n",
      "--------------------------------------------------------------------------------\n",
      "\u001b[33mEthics Reviewer\u001b[0m (to Critic):\n",
      "\n",
      "As an ethics reviewer, it is important to ensure that the content is ethically sound. \n",
      "\n",
      "1. Ensure that any claims made about DeepLearning.AI and its courses are accurate and supported by evidence to avoid misleading potential users.\n",
      "  \n",
      "2. Double-check that there is clear disclosure of any affiliate relationships or sponsorships that may impact the portrayal of DeepLearning.AI to maintain transparency.\n",
      "\n",
      "3. Verify that the language used does not create unrealistic expectations about the outcomes of taking courses on DeepLearning.AI to prevent deceptive marketing practices.\n",
      "\n",
      "--------------------------------------------------------------------------------\n",
      "\u001b[34m\n",
      "********************************************************************************\u001b[0m\n",
      "\u001b[34mStarting a new chat....\u001b[0m\n",
      "\u001b[34m\n",
      "********************************************************************************\u001b[0m\n",
      "\u001b[33mCritic\u001b[0m (to Meta Reviewer):\n",
      "\n",
      "Aggregrate feedback from all reviewers and give final suggestions on the writing.\n",
      "Context: \n",
      "{'Reviewer': 'SEO Reviewer', 'Review': \"Consider incorporating specific keywords related to deep learning and online courses, such as 'deep learning courses,' 'Andrew Ng,' and 'artificial intelligence training,' to improve search engine visibility. Craft a concise and compelling meta description that summarizes the content and includes relevant keywords to increase click-through rates from search engine results pages. Include internal links to relevant pages within the content, such as course pages or additional resources on deep learning, to enhance user engagement and improve website structure for SEO.\"}\n",
      "{'Reviewer': 'Legal Reviewer', 'Review': 'Verify that any references to Andrew Ng are accurate and do not imply any endorsement or affiliation without permission. Check for any potential trademark issues related to the use of terms like \"deep learning\" and \"artificial intelligence\" in the content.'}\n",
      "{\n",
      "  \"reviewer\": \"Ethics Reviewer\",\n",
      "  \"review\": \"1. Ensure that any claims made about DeepLearning.AI and its courses are accurate and supported by evidence to avoid misleading potential users. 2. Double-check that there is clear disclosure of any affiliate relationships or sponsorships that may impact the portrayal of DeepLearning.AI to maintain transparency. 3. Verify that the language used does not create unrealistic expectations about the outcomes of taking courses on DeepLearning.AI to prevent deceptive marketing practices.\"\n",
      "}\n"
     ]
    },
    {
     "name": "stdout",
     "output_type": "stream",
     "text": [
      "\n",
      "--------------------------------------------------------------------------------\n",
      "\u001b[33mMeta Reviewer\u001b[0m (to Critic):\n",
      "\n",
      "After aggregating feedback from all reviewers, it is evident that there are several key areas for improvement in the writing related to deep learning courses and online education:\n",
      "\n",
      "1. **SEO Enhancement**:\n",
      "    - Incorporate specific keywords like 'deep learning courses,' 'Andrew Ng,' and 'artificial intelligence training' to improve search engine visibility.\n",
      "    - Create a concise and compelling meta description that includes relevant keywords for better click-through rates.\n",
      "\n",
      "2. **Legal Accuracy**:\n",
      "    - Verify all references to Andrew Ng for accuracy and ensure no endorsement or affiliation is implied without permission.\n",
      "    - Check for any potential trademark issues related to terms like 'deep learning' and 'artificial intelligence' in the content.\n",
      "\n",
      "3. **Ethical Considerations**:\n",
      "    - Ensure that all claims about DeepLearning.AI and its courses are accurate and supported by evidence to avoid misleading potential users.\n",
      "    - Clearly disclose any affiliate relationships or sponsorships that may impact the portrayal of DeepLearning.AI.\n",
      "    - Avoid language that creates unrealistic expectations about course outcomes to prevent deceptive marketing practices.\n",
      "\n",
      "Final Suggestions:\n",
      "- **Balanced Approach**: While optimizing for SEO, ensure that legal and ethical considerations are also prioritized to maintain integrity and credibility.\n",
      "- **Fact-Checking**: Thoroughly fact-check all references, claims, and affiliations to avoid any inaccuracies or misrepresentations.\n",
      "- **Transparency**: Maintain transparency in all communications, including disclosures of affiliations and sponsorships.\n",
      "- **User-Centric Writing**: Craft content that is informative, accurate, and sets realistic expectations for potential users.\n",
      "- **Collaboration**: Consider collaborating with legal and ethics experts to ensure compliance and ethical standards in all content related to DeepLearning.AI courses.\n",
      "\n",
      "--------------------------------------------------------------------------------\n",
      "\u001b[33mCritic\u001b[0m (to Writer):\n",
      "\n",
      "After aggregating feedback from all reviewers, it is evident that there are several key areas for improvement in the writing related to deep learning courses and online education:\n",
      "\n",
      "1. **SEO Enhancement**:\n",
      "    - Incorporate specific keywords like 'deep learning courses,' 'Andrew Ng,' and 'artificial intelligence training' to improve search engine visibility.\n",
      "    - Create a concise and compelling meta description that includes relevant keywords for better click-through rates.\n",
      "\n",
      "2. **Legal Accuracy**:\n",
      "    - Verify all references to Andrew Ng for accuracy and ensure no endorsement or affiliation is implied without permission.\n",
      "    - Check for any potential trademark issues related to terms like 'deep learning' and 'artificial intelligence' in the content.\n",
      "\n",
      "3. **Ethical Considerations**:\n",
      "    - Ensure that all claims about DeepLearning.AI and its courses are accurate and supported by evidence to avoid misleading potential users.\n",
      "    - Clearly disclose any affiliate relationships or sponsorships that may impact the portrayal of DeepLearning.AI.\n",
      "    - Avoid language that creates unrealistic expectations about course outcomes to prevent deceptive marketing practices.\n",
      "\n",
      "Final Suggestions:\n",
      "- **Balanced Approach**: While optimizing for SEO, ensure that legal and ethical considerations are also prioritized to maintain integrity and credibility.\n",
      "- **Fact-Checking**: Thoroughly fact-check all references, claims, and affiliations to avoid any inaccuracies or misrepresentations.\n",
      "- **Transparency**: Maintain transparency in all communications, including disclosures of affiliations and sponsorships.\n",
      "- **User-Centric Writing**: Craft content that is informative, accurate, and sets realistic expectations for potential users.\n",
      "- **Collaboration**: Consider collaborating with legal and ethics experts to ensure compliance and ethical standards in all content related to DeepLearning.AI courses.\n",
      "\n",
      "--------------------------------------------------------------------------------\n",
      "\u001b[33mWriter\u001b[0m (to Critic):\n",
      "\n",
      "Title: \"Master Deep Learning Skills with Online Courses by DeepLearning.AI\"\n",
      "\n",
      "Are you looking to excel in deep learning and artificial intelligence training? Discover the world of DeepLearning.AI led by the renowned expert Andrew Ng. From foundational concepts to advanced applications, these deep learning courses offer hands-on experience to elevate your skills. Dive into projects and practical learning, suitable for beginners and seasoned professionals alike. Kickstart your deep learning journey today with DeepLearning.AI's comprehensive online resources. Learn from the best and embrace the future of AI education.\n",
      "\n",
      "--------------------------------------------------------------------------------\n"
     ]
    }
   ],
   "source": [
    "res = critic.initiate_chat(\n",
    "    recipient=writer,\n",
    "    message=task,\n",
    "    max_turns=2,\n",
    "    summary_method=\"last_msg\"\n",
    ")"
   ]
  },
  {
   "cell_type": "markdown",
   "id": "c5c833b0",
   "metadata": {},
   "source": [
    "## Get the summary"
   ]
  },
  {
   "cell_type": "code",
   "execution_count": 15,
   "id": "68ef82ed-f102-4964-b7be-60e2f258a39b",
   "metadata": {
    "height": 30
   },
   "outputs": [
    {
     "name": "stdout",
     "output_type": "stream",
     "text": [
      "Title: \"Master Deep Learning Skills with Online Courses by DeepLearning.AI\"\n",
      "\n",
      "Are you looking to excel in deep learning and artificial intelligence training? Discover the world of DeepLearning.AI led by the renowned expert Andrew Ng. From foundational concepts to advanced applications, these deep learning courses offer hands-on experience to elevate your skills. Dive into projects and practical learning, suitable for beginners and seasoned professionals alike. Kickstart your deep learning journey today with DeepLearning.AI's comprehensive online resources. Learn from the best and embrace the future of AI education.\n"
     ]
    }
   ],
   "source": [
    "print(res.summary)"
   ]
  }
 ],
 "metadata": {
  "kernelspec": {
   "display_name": "Python 3 (ipykernel)",
   "language": "python",
   "name": "python3"
  },
  "language_info": {
   "codemirror_mode": {
    "name": "ipython",
    "version": 3
   },
   "file_extension": ".py",
   "mimetype": "text/x-python",
   "name": "python",
   "nbconvert_exporter": "python",
   "pygments_lexer": "ipython3",
   "version": "3.11.9"
  }
 },
 "nbformat": 4,
 "nbformat_minor": 5
}
